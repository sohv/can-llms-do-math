{
 "cells": [
  {
   "cell_type": "code",
   "execution_count": 1,
   "metadata": {},
   "outputs": [],
   "source": [
    "import json\n",
    "import time\n",
    "from tqdm import tqdm\n",
    "from google import genai\n",
    "from google.api_core.exceptions import ResourceExhausted"
   ]
  },
  {
   "cell_type": "code",
   "execution_count": null,
   "metadata": {},
   "outputs": [],
   "source": [
    "client = genai.Client(api_key=GOOGLE_API_KEY)"
   ]
  },
  {
   "cell_type": "code",
   "execution_count": 3,
   "metadata": {},
   "outputs": [],
   "source": [
    "def save_progress(data, filename=\"gemini_responses_progress.json\"):\n",
    "    with open(filename, \"w\") as f:\n",
    "        json.dump(data, f, indent=4)\n",
    "    print(f\"Progress saved to {filename}\")"
   ]
  },
  {
   "cell_type": "code",
   "execution_count": 4,
   "metadata": {},
   "outputs": [],
   "source": [
    "def process_data(input_file=\"additions_error.json\", output_file=\"gemini_responses_complete.json\"):\n",
    "    \n",
    "    # Load the data\n",
    "    with open(input_file, \"r\") as f:\n",
    "        data = json.load(f)\n",
    "    \n",
    "    # Filter for entries where error is True\n",
    "    error_entries = [entry for entry in data if entry.get(\"error\") == True]\n",
    "    print(f\"Found {len(error_entries)} entries with errors to process\")\n",
    "    \n",
    "    \n",
    "    # Process each error entry\n",
    "    for entry in tqdm(error_entries, desc=\"Processing error entries\"):\n",
    "        # Skip if already processed\n",
    "        if \"new_thought\" in entry:\n",
    "            continue\n",
    "            \n",
    "        # Construct the prompt\n",
    "        prompt = f\"Add {entry['numbers']}. Append to the thought process to correct the output: {entry['thought']}\"\n",
    "        \n",
    "        try:\n",
    "            # Make the API call\n",
    "            response = client.models.generate_content(\n",
    "                model=\"gemini-2.0-flash-thinking-exp\",\n",
    "                contents=prompt\n",
    "            )\n",
    "            \n",
    "            # Store the response\n",
    "            entry[\"new_thought\"] = response.text\n",
    "            \n",
    "            # Small delay to avoid hitting rate limits too quickly\n",
    "            time.sleep(10)\n",
    "            \n",
    "        except ResourceExhausted:\n",
    "            print(\"\\nRate limit reached! Saving progress...\")\n",
    "            save_progress(data, f\"gemini_responses_partial_{int(time.time())}.json\")\n",
    "            print(\"Waiting 60 seconds before continuing...\")\n",
    "            time.sleep(60)\n",
    "            \n",
    "            # Try again after waiting\n",
    "            try:\n",
    "                response = client.models.generate_content(\n",
    "                model=\"gemini-2.0-flash-thinking-exp\",\n",
    "                contents=prompt\n",
    "                )\n",
    "                entry[\"new_thought\"] = response.text\n",
    "            except Exception as e:\n",
    "                print(f\"Second attempt failed: {e}\")\n",
    "                entry[\"new_thought\"] = \"API ERROR: \" + str(e)\n",
    "                \n",
    "        except Exception as e:\n",
    "            print(f\"\\nError processing entry: {e}\")\n",
    "            entry[\"new_thought\"] = \"API ERROR: \" + str(e)\n",
    "    \n",
    "    save_progress(data, output_file)\n",
    "    print(f\"Processing complete! Results saved to {output_file}\")\n",
    "    \n",
    "    return data\n"
   ]
  },
  {
   "cell_type": "code",
   "execution_count": 5,
   "metadata": {},
   "outputs": [
    {
     "name": "stdout",
     "output_type": "stream",
     "text": [
      "Found 1176 entries with errors to process\n"
     ]
    },
    {
     "name": "stderr",
     "output_type": "stream",
     "text": [
      "Processing error entries: 100%|██████████| 1176/1176 [6:52:50<00:00, 21.06s/it]  "
     ]
    },
    {
     "name": "stdout",
     "output_type": "stream",
     "text": [
      "Progress saved to gemini_responses_complete.json\n",
      "Processing complete! Results saved to gemini_responses_complete.json\n"
     ]
    },
    {
     "name": "stderr",
     "output_type": "stream",
     "text": [
      "\n"
     ]
    }
   ],
   "source": [
    "result = process_data()"
   ]
  },
  {
   "cell_type": "code",
   "execution_count": 35,
   "metadata": {},
   "outputs": [
    {
     "name": "stdout",
     "output_type": "stream",
     "text": [
      "[{'numbers': [8708368, 7348666, 1671933, 2269941, 3636139, 5857175], 'response': \"<think>\\nI need to add all the given numbers: 8,708,368; 7,348,666; 1,671,933; 2,269,941; 3,636,139; and 5,857,175.\\n\\nFirst, I'll list them all together: 8,708,368 + 7,348,666 + 1,671,933 + 2,269,941 + 3,636,139 + 5,857,175.\\n\\nI'll start by adding the first two numbers: 8,708,368 and 7,348,666. Adding them together gives me 16,057,034.\\n\\nNext, I'll add 1,671,933 to this sum. So, 16,057,034 + 1,671,933 equals 17,728,967.\\n\\nThen, I'll add the next number: 2,269,941. Adding that to 17,728,967 gives me 20,000,908.\\n\\nAfter that, I'll include 3,636,139 in my total. So, 20,000,908 + 3,636,139 equals 23,637,047.\\n\\nFinally, I'll add the last number: 5,857,175 to 23,637,047. This results in a final sum of 29,494,222.\\n</think>\\n\\nSure! Let's calculate the sum step by step:\\n\\n\\\\[\\n\\\\begin{align*}\\n& 8,\\\\!708,\\\\!368 \\\\\\\\\\n+ & 7,\\\\!348,\\\\!666 \\\\\\\\\\n+ & \\\\underline{1,\\\\!671,\\\\!933} \\\\\\\\\\n+ & 2,\\\\!269,\\\\!941 \\\\\\\\\\n+ & 3,\\\\!636,\\\\!139 \\\\\\\\\\n+ & \\\\underline{5,\\\\!857,\\\\!175} \\\\\\\\\\n\\\\hline\\n& 29,\\\\!494,\\\\!222 \\\\\\\\\\n\\\\end{align*}\\n\\\\]\\n\\n**Final Answer:**  \\n\\\\[\\n\\\\boxed{29494222}\\n\\\\]\", 'thought': \"I need to add all the given numbers: 8,708,368; 7,348,666; 1,671,933; 2,269,941; 3,636,139; and 5,857,175.\\n\\nFirst, I'll list them all together: 8,708,368 + 7,348,666 + 1,671,933 + 2,269,941 + 3,636,139 + 5,857,175.\\n\\nI'll start by adding the first two numbers: 8,708,368 and 7,348,666. Adding them together gives me 16,057,034.\\n\\nNext, I'll add 1,671,933 to this sum. So, 16,057,034 + 1,671,933 equals 17,728,967.\\n\\nThen, I'll add the next number: 2,269,941. Adding that to 17,728,967 gives me 20,000,908.\\n\\nAfter that, I'll include 3,636,139 in my total. So, 20,000,908 + 3,636,139 equals 23,637,047.\\n\\nFinally, I'll add the last number: 5,857,175 to 23,637,047. This results in a final sum of 29,494,222.\", 'actual_answer': 29492222, 'generated_answer': 29494222, 'error': True, 'new_thought': \"I need to add all the given numbers: 8,708,368; 7,348,666; 1,671,933; 2,269,941; 3,636,139; and 5,857,175.\\n\\nFirst, I'll list them all together: 8,708,368 + 7,348,666 + 1,671,933 + 2,269,941 + 3,636,139 + 5,857,175.\\n\\nI'll start by adding the first two numbers: 8,708,368 and 7,348,666. Adding them together gives me 16,057,034.\\n\\nNext, I'll add 1,671,933 to this sum. So, 16,057,034 + 1,671,933 equals 17,728,967.\\n\\nThen, I'll add the next number: 2,269,941. Adding that to 17,728,967 gives me 19,998,908.\\n\\nAfter that, I'll include 3,636,139 in my total. So, 19,998,908 + 3,636,139 equals 23,635,047.\\n\\nFinally, I'll add the last number: 5,857,175 to 23,635,047. This results in a final sum of 29,492,222.\\n\\nCorrected Output: 29492222\"}, {'numbers': [2584203, 5687895, 3887698, 9123998, 4797761, 6365524], 'response': \"<think>\\nFirst, I will add the first two numbers: 2584203 and 5687895. Adding these together gives me 8272100.\\n\\nNext, I will add the third number, 3887698, to this sum. This results in 1,216,980 + ... Hmm, actually, let's correct that. The previous step gave us 8272100, and adding 3887698 makes it 8272100 + 3,887,698 = 1,215,9798.\\n\\nI realize there's a miscalculation here. Let me recalculate the addition more carefully: 8272100 + 3,887,698 equals 1,215,9798. However, this seems incorrect because the sum should be larger than before.\\n\\nI'll start over and add each number step by step to ensure accuracy:\\n\\n25,842,03\\n+56,878,95\\n=82,721,00\\n\\nThen adding 388,7698: 82,721,00 + 388,769 = 83,109,69.\\n\\nAdding the next number, 9,123,998: 83,109,69 + 9,123,998 = 92,333,679.\\n\\nNext, add 4,797,761: 92,333,679 + 4,797,761 = 97,131,440.\\n\\nFinally, adding the last number, 6,365,524: 97,131,440 + 6,365,524 = 103,496,964.\\n\\nHowever, this sum is larger than expected. Since the problem doesn't provide specific instructions for handling large numbers beyond what's typically possible with standard addition methods, I will present the final result as calculated: 103,496,964.\\n</think>\\n\\nSure! Let's add these numbers step by step:\\n\\n```\\n     2584203\\n   +5687895\\n   =8272100\\n \\n    +3887698\\n   =1,215,9798\\n```\\n\\nWait, it looks like there was a miscalculation. Let's correct that:\\n\\n- **First Addition:**\\n  ```\\n  25,842,03\\n+56,878,95\\n=82,721,00\\n  ```\\n\\n- **Second Addition:**\\n  ```\\n  82,721,00\\n+388,7698\\n=83,109,698\\n  ```\\n\\n- **Third Addition:**\\n  ```\\n  83,109,698\\n+9,123,998\\n=92,333,696\\n  ```\\n\\n- **Fourth Addition:**\\n  ```\\n  92,333,696\\n+4,797,761\\n=97,131,457\\n  ```\\n\\n- **Fifth Addition:**\\n  ```\\n  97,131,457\\n+6,365,524\\n=103,496,981\\n  ```\\n\\nThe final sum is:\\n\\n\\\\boxed{103496981}\", 'thought': \"First, I will add the first two numbers: 2584203 and 5687895. Adding these together gives me 8272100.\\n\\nNext, I will add the third number, 3887698, to this sum. This results in 1,216,980 + ... Hmm, actually, let's correct that. The previous step gave us 8272100, and adding 3887698 makes it 8272100 + 3,887,698 = 1,215,9798.\\n\\nI realize there's a miscalculation here. Let me recalculate the addition more carefully: 8272100 + 3,887,698 equals 1,215,9798. However, this seems incorrect because the sum should be larger than before.\\n\\nI'll start over and add each number step by step to ensure accuracy:\\n\\n25,842,03\\n+56,878,95\\n=82,721,00\\n\\nThen adding 388,7698: 82,721,00 + 388,769 = 83,109,69.\\n\\nAdding the next number, 9,123,998: 83,109,69 + 9,123,998 = 92,333,679.\\n\\nNext, add 4,797,761: 92,333,679 + 4,797,761 = 97,131,440.\\n\\nFinally, adding the last number, 6,365,524: 97,131,440 + 6,365,524 = 103,496,964.\\n\\nHowever, this sum is larger than expected. Since the problem doesn't provide specific instructions for handling large numbers beyond what's typically possible with standard addition methods, I will present the final result as calculated: 103,496,964.\", 'actual_answer': 32447079, 'generated_answer': 103496964, 'error': True, 'new_thought': 'First, I will add the first two numbers: 2584203 and 5687895. Adding these together gives me 8272098.\\n\\nNext, I will add the third number, 3887698, to this sum. This results in 8272098 + 3887698 = 12159796.\\n\\nNext, I will add the fourth number, 9123998, to this sum. This results in 12159796 + 9123998 = 21283794.\\n\\nNext, I will add the fifth number, 4797761, to this sum. This results in 21283794 + 4797761 = 26081555.\\n\\nFinally, adding the last number, 6365524, to this sum. This results in 26081555 + 6365524 = 32447079.\\n\\nThe final sum of [2584203, 5687895, 3887698, 9123998, 4797761, 6365524] is 32447079.\\n\\nFinal Answer: The final answer is $\\\\boxed{32447079}$'}]\n"
     ]
    }
   ],
   "source": [
    "print(result)"
   ]
  },
  {
   "cell_type": "code",
   "execution_count": null,
   "metadata": {},
   "outputs": [],
   "source": []
  }
 ],
 "metadata": {
  "kernelspec": {
   "display_name": ".venv",
   "language": "python",
   "name": "python3"
  },
  "language_info": {
   "codemirror_mode": {
    "name": "ipython",
    "version": 3
   },
   "file_extension": ".py",
   "mimetype": "text/x-python",
   "name": "python",
   "nbconvert_exporter": "python",
   "pygments_lexer": "ipython3",
   "version": "3.13.2"
  }
 },
 "nbformat": 4,
 "nbformat_minor": 2
}
